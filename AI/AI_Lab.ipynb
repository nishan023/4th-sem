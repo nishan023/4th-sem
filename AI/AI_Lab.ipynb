{
 "cells": [
  {
   "cell_type": "code",
   "execution_count": 1,
   "id": "ce7479c2-79dc-4bdc-95ae-02fa5b211623",
   "metadata": {},
   "outputs": [
    {
     "name": "stdout",
     "output_type": "stream",
     "text": [
      "Perceived: dirty, Action: clean\n"
     ]
    }
   ],
   "source": [
    "#python Program for implementing simple intelligent agent\n",
    "class SimpleReflexAgent:\n",
    "    def __init__(self):\n",
    "        self.state = None\n",
    "\n",
    "    def perceive(self, environment):\n",
    "        return environment['percept']\n",
    "\n",
    "    def act(self, percept):\n",
    "        if percept == 'dirty':\n",
    "            return 'clean'\n",
    "        else:\n",
    "            return 'move'\n",
    "\n",
    "# Example environment\n",
    "environment = {'percept': 'dirty'}\n",
    "\n",
    "# Agent\n",
    "agent = SimpleReflexAgent()\n",
    "percept = agent.perceive(environment)\n",
    "action = agent.act(percept)\n",
    "print(f'Perceived: {percept}, Action: {action}')"
   ]
  },
  {
   "cell_type": "code",
   "execution_count": 2,
   "id": "bb43dbff-0ebf-4e5c-8795-bf8a4568e863",
   "metadata": {},
   "outputs": [
    {
     "name": "stdout",
     "output_type": "stream",
     "text": [
      "A\n",
      "B\n",
      "D\n",
      "E\n",
      "F\n",
      "C\n"
     ]
    }
   ],
   "source": [
    "#dfs, graph as an adjacency list\n",
    "graph = {\n",
    "    'A': ['B', 'C'],\n",
    "    'B': ['D', 'E'],\n",
    "    'C': ['F'],\n",
    "    'D': [],\n",
    "    'E': ['F'],\n",
    "    'F': []\n",
    "}\n",
    "\n",
    "def dfs(graph, start, visited=None):\n",
    "    if visited is None:\n",
    "        visited = set()  # initialize the visited set if not provided\n",
    "    visited.add(start)  # mark the start node as visited\n",
    "    print(start)  # printing the current node\n",
    "\n",
    "    for neighbor in graph[start]:  # iterate over each neighbor\n",
    "        if neighbor not in visited:  # If the neighbor hasn't been visited\n",
    "            dfs(graph, neighbor, visited)  # Recursively visit the neighbor\n",
    "\n",
    "#perform DFS starting from node 'A'\n",
    "dfs(graph, 'A')"
   ]
  },
  {
   "cell_type": "code",
   "execution_count": 3,
   "id": "77794393-f523-422b-8a73-886a6e25d4c5",
   "metadata": {},
   "outputs": [
    {
     "name": "stdout",
     "output_type": "stream",
     "text": [
      "A\n",
      "B\n",
      "C\n",
      "D\n",
      "E\n",
      "F\n"
     ]
    }
   ],
   "source": [
    "# bfs, graph as an adjacency list\n",
    "from collections import deque       #deque provides the priority queue in python\n",
    "\n",
    "graph = {\n",
    "    'A': ['B', 'C'],\n",
    "    'B': ['D', 'E'],\n",
    "    'C': ['F'],\n",
    "    'D': [],\n",
    "    'E': ['F'],\n",
    "    'F': []\n",
    "}\n",
    "\n",
    "def bfs(graph, start):\n",
    "    visited = set()  # Initialize the visited set\n",
    "    queue = deque([start])  # Initialize the queue with the start node\n",
    "\n",
    "    while queue:  # While there are nodes to process\n",
    "        vertex = queue.popleft()  # Dequeue a vertex\n",
    "        if vertex not in visited:  # If the vertex hasn't been visited\n",
    "            print(vertex)  # Print the current node\n",
    "            visited.add(vertex)  # Mark the vertex as visited\n",
    "            queue.extend(neighbor for neighbor in graph[vertex] if neighbor not in visited)  # Enqueue non-visited neighbors\n",
    "\n",
    "#BFS starting from node 'A'\n",
    "bfs(graph, 'A')"
   ]
  },
  {
   "cell_type": "code",
   "execution_count": 4,
   "id": "4c0e45fa-67cc-43fa-8fef-0bfca837b4c1",
   "metadata": {},
   "outputs": [
    {
     "name": "stdout",
     "output_type": "stream",
     "text": [
      "['A', 'C', 'E', 'F']\n"
     ]
    }
   ],
   "source": [
    "#A* search\n",
    "import heapq\n",
    "\n",
    "def a_star_search(graph, start, goal, heuristic, costs):\n",
    "    pq = []\n",
    "    heapq.heappush(pq, (heuristic[start], 0, start))\n",
    "    visited = set()\n",
    "    came_from = {start: None}\n",
    "    g_costs = {start: 0}\n",
    "\n",
    "    while pq:\n",
    "        _, current_g, current = heapq.heappop(pq)\n",
    "\n",
    "        if current in visited:\n",
    "            continue\n",
    "\n",
    "        visited.add(current)\n",
    "\n",
    "        if current == goal:\n",
    "            # Reconstruct the path\n",
    "            path = []\n",
    "            while current:\n",
    "                path.append(current)\n",
    "                current = came_from[current]\n",
    "            return path[::-1]\n",
    "        \n",
    "        for neighbor, cost in graph[current]:\n",
    "            if neighbor in visited:\n",
    "                continue\n",
    "\n",
    "            new_g = current_g + cost\n",
    "            if neighbor not in g_costs or new_g < g_costs[neighbor]:\n",
    "                g_costs[neighbor] = new_g\n",
    "                f = new_g + heuristic[neighbor]\n",
    "                came_from[neighbor] = current\n",
    "                heapq.heappush(pq, (f, new_g, neighbor))\n",
    "\n",
    "    return None\n",
    "\n",
    "#example graph with costs\n",
    "graph = {\n",
    "    'A': [('B', 1), ('C', 2)],\n",
    "    'B': [('D', 3)],\n",
    "    'C': [('E', 2)],\n",
    "    'D': [('F', 4)],\n",
    "    'E': [('F', 1)],\n",
    "    'F': []\n",
    "}\n",
    "\n",
    "heuristic = {\n",
    "    'A': 3,\n",
    "    'B': 2,\n",
    "    'C': 1,\n",
    "    'D': 1,\n",
    "    'E': 0,\n",
    "    'F': 0\n",
    "}\n",
    "\n",
    "path = a_star_search(graph, 'A', 'F', heuristic, graph)\n",
    "print(path)  # Output: ['A', 'C', 'E', 'F]"
   ]
  },
  {
   "cell_type": "code",
   "execution_count": 5,
   "id": "3a0d3247-25f8-4033-8666-04c054cf03f9",
   "metadata": {},
   "outputs": [
    {
     "name": "stdout",
     "output_type": "stream",
     "text": [
      "5\n"
     ]
    }
   ],
   "source": [
    "#minimax algorithm\n",
    "def minimax(depth, nodeIndex, maximizingPlayer, values, alpha, beta):\n",
    "    if depth == 3:\n",
    "        return values[nodeIndex]\n",
    "    if maximizingPlayer:\n",
    "        best = -float('inf')\n",
    "        for i in range(0, 2):\n",
    "            val = minimax(depth + 1, nodeIndex * 2 + i, False, values, alpha, beta)\n",
    "            best = max(best, val)\n",
    "            alpha = max(alpha, best)\n",
    "            if beta <= alpha:\n",
    "                break\n",
    "        return best\n",
    "    else:\n",
    "        best = float('inf')\n",
    "        for i in range(0, 2):\n",
    "            val = minimax(depth + 1, nodeIndex * 2 + i, True, values, alpha, beta)\n",
    "            best = min(best, val)\n",
    "            beta = min(beta, best)\n",
    "            if beta <= alpha:\n",
    "                break\n",
    "        return best\n",
    "\n",
    "values = [3, 5, 6, 9, 1, 2, 0, -1]\n",
    "print(minimax(0, 0, True, values, -float('inf'), float('inf')))"
   ]
  },
  {
   "cell_type": "code",
   "execution_count": 6,
   "id": "ea51cc25-905e-489c-9272-15c2e7d1875a",
   "metadata": {},
   "outputs": [
    {
     "name": "stdout",
     "output_type": "stream",
     "text": [
      "[[0, 0, 1, 0], [1, 0, 0, 0], [0, 0, 0, 1], [0, 1, 0, 0]]\n"
     ]
    }
   ],
   "source": [
    "#Constraint Satisfaction Problems (N-Queens)\n",
    "def is_safe(board, row, col, n):\n",
    "    for i in range(col):\n",
    "        if board[row][i]:\n",
    "            return False\n",
    "    for i, j in zip(range(row, -1, -1), range(col, -1, -1)):\n",
    "        if board[i][j]:\n",
    "            return False\n",
    "    for i, j in zip(range(row, n, 1), range(col, -1, -1)):\n",
    "        if board[i][j]:\n",
    "            return False\n",
    "    return True\n",
    "\n",
    "def solve_n_queens(board, col, n):\n",
    "    if col >= n:\n",
    "        return True\n",
    "    for i in range(n):\n",
    "        if is_safe(board, i, col, n):\n",
    "            board[i][col] = 1\n",
    "            if solve_n_queens(board, col + 1, n):\n",
    "                return True\n",
    "            board[i][col] = 0\n",
    "    return False\n",
    "\n",
    "n = 4\n",
    "board = [[0 for _ in range(n)] for _ in range(n)]\n",
    "solve_n_queens(board, 0, n)\n",
    "print(board)"
   ]
  },
  {
   "cell_type": "code",
   "execution_count": 8,
   "id": "7028e24c-9a80-4e6c-b2eb-00e0974a581c",
   "metadata": {},
   "outputs": [
    {
     "name": "stdout",
     "output_type": "stream",
     "text": [
      "take umbrella\n"
     ]
    }
   ],
   "source": [
    "#knowledge Representation system(Rule based)\n",
    "rules = {\n",
    "    'rainy': 'take umbrella',\n",
    "    'sunny': 'wear sunglasses'\n",
    "}\n",
    "\n",
    "def rule_based_agent(percept):\n",
    "    return rules.get(percept, 'donothing')\n",
    "\n",
    "print(rule_based_agent('rainy'))"
   ]
  },
  {
   "cell_type": "code",
   "execution_count": 9,
   "id": "66370f1e-70bf-4028-9863-6b0712e9df7b",
   "metadata": {},
   "outputs": [
    {
     "name": "stdout",
     "output_type": "stream",
     "text": [
      "True\n"
     ]
    }
   ],
   "source": [
    "# Predicate Logic (Prolog-like implementation)\n",
    "class Predicate:\n",
    "    def __init__(self, subject, predicate):\n",
    "        self.subject = subject\n",
    "        self.predicate = predicate\n",
    "\n",
    "    def evaluate(self, facts):\n",
    "        return (self.subject, self.predicate) in facts\n",
    "\n",
    "facts = {('Socrates', 'man')}\n",
    "p = Predicate('Socrates', 'man')\n",
    "print(p.evaluate(facts))"
   ]
  },
  {
   "cell_type": "code",
   "execution_count": 11,
   "id": "a730d1d8-5c08-4eda-a11c-10c82631972f",
   "metadata": {},
   "outputs": [
    {
     "name": "stdout",
     "output_type": "stream",
     "text": [
      "Buddy Germn Shepherd\n"
     ]
    }
   ],
   "source": [
    "#frame based system\n",
    "class Animal:\n",
    "    def __init__(self, name):\n",
    "        self.name = name\n",
    "\n",
    "class Dog(Animal):\n",
    "    def __init__(self, name, breed):\n",
    "        super().__init__(name)\n",
    "        self.breed = breed\n",
    "\n",
    "dog = Dog('Buddy', 'Germn Shepherd')\n",
    "print(dog.name, dog.breed)"
   ]
  },
  {
   "cell_type": "code",
   "execution_count": 13,
   "id": "b7f5ef1a-436f-4790-8d15-3efc8e77d410",
   "metadata": {},
   "outputs": [
    {
     "name": "stdout",
     "output_type": "stream",
     "text": [
      "Defaulting to user installation because normal site-packages is not writeable\n",
      "Collecting networkx\n",
      "  Downloading networkx-3.3-py3-none-any.whl.metadata (5.1 kB)\n",
      "Downloading networkx-3.3-py3-none-any.whl (1.7 MB)\n",
      "\u001b[2K   \u001b[38;2;114;156;31m━━━━━━━━━━━━━━━━━━━━━━━━━━━━━━━━━━━━━━━━\u001b[0m \u001b[32m1.7/1.7 MB\u001b[0m \u001b[31m1.3 MB/s\u001b[0m eta \u001b[36m0:00:00\u001b[0m[31m1.3 MB/s\u001b[0m eta \u001b[36m0:00:01\u001b[0m\n",
      "\u001b[?25hInstalling collected packages: networkx\n",
      "Successfully installed networkx-3.3\n"
     ]
    },
    {
     "data": {
      "image/png": "[encoded data removed]",
      "text/plain": [
       "<Figure size 640x480 with 1 Axes>"
      ]
     },
     "metadata": {},
     "output_type": "display_data"
    }
   ],
   "source": [
    "# sementic networks\n",
    "!pip install networkx\n",
    "import networkx as nx\n",
    "import matplotlib.pyplot as plt\n",
    "\n",
    "G = nx.Graph()\n",
    "G.add_edges_from([('Dog', 'Mammal'), ('Mammal', 'Animal')])\n",
    "\n",
    "nx.draw(G, with_labels=True)\n",
    "plt.show()"
   ]
  },
  {
   "cell_type": "code",
   "execution_count": 15,
   "id": "9b5977f4-09d1-498e-93b6-6a1f047aca0d",
   "metadata": {},
   "outputs": [
    {
     "name": "stdout",
     "output_type": "stream",
     "text": [
      "Accuracy: 0.9111111111111111\n"
     ]
    }
   ],
   "source": [
    "#machine Learning/Naive Bayes Classifier\n",
    "from sklearn.naive_bayes import GaussianNB\n",
    "from sklearn.model_selection import train_test_split\n",
    "from sklearn import datasets\n",
    "\n",
    "# Load dataset\n",
    "data = datasets.load_iris()\n",
    "X_train, X_test, y_train, y_test = train_test_split(data.data, data.target, test_size=0.3)\n",
    "\n",
    "# traineing Naive Bayes\n",
    "model = GaussianNB()\n",
    "model.fit(X_train, y_train)\n",
    "\n",
    "print(f\"Accuracy: {model.score(X_test, y_test)}\")"
   ]
  },
  {
   "cell_type": "code",
   "execution_count": 18,
   "id": "db1b3d91-72c9-448b-84a5-6c3caa593ca4",
   "metadata": {},
   "outputs": [
    {
     "name": "stdout",
     "output_type": "stream",
     "text": [
      "\u001b[1m1/1\u001b[0m \u001b[32m━━━━━━━━━━━━━━━━━━━━\u001b[0m\u001b[37m\u001b[0m \u001b[1m0s\u001b[0m 25ms/step\n",
      "[[0.3882758 ]\n",
      " [0.6200865 ]\n",
      " [0.50532436]\n",
      " [0.7242774 ]]\n"
     ]
    }
   ],
   "source": [
    "# Neural Networks for AND/OR Gates\n",
    "import numpy as np\n",
    "from keras.models import Sequential\n",
    "from keras.layers import Dense\n",
    "\n",
    "#input and output data for AND gate\n",
    "X = np.array([[0, 0], [0, 1], [1, 0], [1, 1]])\n",
    "y = np.array([[0], [0], [0], [1]])\n",
    "\n",
    "# build the model\n",
    "model = Sequential()\n",
    "model.add(Dense(1, input_dim=2, activation='sigmoid'))\n",
    "model.compile(loss='binary_crossentropy', optimizer='adam', metrics=['accuracy'])\n",
    "\n",
    "#train the model\n",
    "model.fit(X, y, epochs=500, verbose=0)\n",
    "\n",
    "print(model.predict(X))\n",
    "# Backpropagation is integrated with neural network training using deep learning libraries like Keras (as shown above)"
   ]
  },
  {
   "cell_type": "code",
   "execution_count": 19,
   "id": "4efdfef2-560c-4e0f-bae9-8e390f55a3b5",
   "metadata": {},
   "outputs": [
    {
     "name": "stdout",
     "output_type": "stream",
     "text": [
      "Flu\n"
     ]
    }
   ],
   "source": [
    "#expert System for Disease Prediction:\n",
    "symptoms = {'fever': 'Flu', 'rash': 'Allergy'}\n",
    "\n",
    "def diagnose(symptom):\n",
    "    return symptoms.get(symptom, 'Unknown')\n",
    "\n",
    "print(diagnose('fever'))"
   ]
  },
  {
   "cell_type": "code",
   "execution_count": 20,
   "id": "83039201-cae1-4999-8d9b-257fe50aa256",
   "metadata": {},
   "outputs": [
    {
     "name": "stdout",
     "output_type": "stream",
     "text": [
      "Defaulting to user installation because normal site-packages is not writeable\n",
      "Requirement already satisfied: nltk in /home/hariupreti/.local/lib/python3.10/site-packages (3.8.1)\n",
      "Requirement already satisfied: click in /usr/lib/python3/dist-packages (from nltk) (8.0.3)\n",
      "Requirement already satisfied: joblib in /home/hariupreti/.local/lib/python3.10/site-packages (from nltk) (1.4.2)\n",
      "Requirement already satisfied: regex>=2021.8.3 in /home/hariupreti/.local/lib/python3.10/site-packages (from nltk) (2024.7.24)\n",
      "Requirement already satisfied: tqdm in /home/hariupreti/.local/lib/python3.10/site-packages (from nltk) (4.66.4)\n",
      "['Artificial', 'intelligence', 'is', 'the', 'future', '.']\n"
     ]
    }
   ],
   "source": [
    "!pip install nltk\n",
    "import nltk\n",
    "from nltk.tokenize import word_tokenize\n",
    "\n",
    "sentence = \"Artificial intelligence is the future.\"\n",
    "tokens = word_tokenize(sentence)\n",
    "print(tokens)"
   ]
  },
  {
   "cell_type": "code",
   "execution_count": null,
   "id": "c3bf9b46-dd3a-460f-9573-a3a31cdca6f9",
   "metadata": {},
   "outputs": [],
   "source": []
  }
 ],
 "metadata": {
  "kernelspec": {
   "display_name": "Python 3 (ipykernel)",
   "language": "python",
   "name": "python3"
  },
  "language_info": {
   "codemirror_mode": {
    "name": "ipython",
    "version": 3
   },
   "file_extension": ".py",
   "mimetype": "text/x-python",
   "name": "python",
   "nbconvert_exporter": "python",
   "pygments_lexer": "ipython3",
   "version": "3.10.12"
  }
 },
 "nbformat": 4,
 "nbformat_minor": 5
}
